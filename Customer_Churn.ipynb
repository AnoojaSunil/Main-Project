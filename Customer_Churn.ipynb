{
  "cells": [
    {
      "cell_type": "code",
      "execution_count": 1,
      "metadata": {
        "id": "LOj4_v4uHSpR"
      },
      "outputs": [],
      "source": [
        "import pandas as pd\n",
        "import numpy as np\n",
        "from matplotlib import pyplot as plt\n",
        "from sklearn.model_selection import train_test_split\n",
        "from sklearn.preprocessing import MinMaxScaler, OneHotEncoder, LabelEncoder\n",
        "from sklearn.compose import ColumnTransformer, make_column_transformer\n",
        "from sklearn.metrics import confusion_matrix, classification_report\n",
        "from sklearn.neighbors import KNeighborsClassifier"
      ]
    },
    {
      "cell_type": "code",
      "execution_count": 2,
      "metadata": {
        "colab": {
          "base_uri": "https://localhost:8080/",
          "height": 206
        },
        "id": "oxmzKlfRIhn7",
        "outputId": "ceabc92f-dc6d-40a5-dacf-5d4c8ffa3453"
      },
      "outputs": [
        {
          "output_type": "execute_result",
          "data": {
            "text/plain": [
              "   CreditScore Geography  Gender  Age  Tenure    Balance  NumOfProducts  \\\n",
              "0          619    France  Female   42       2       0.00              1   \n",
              "1          608     Spain  Female   41       1   83807.86              1   \n",
              "2          502    France  Female   42       8  159660.80              3   \n",
              "3          699    France  Female   39       1       0.00              2   \n",
              "4          850     Spain  Female   43       2  125510.82              1   \n",
              "\n",
              "   HasCrCard  IsActiveMember  EstimatedSalary  Exited  \n",
              "0          1               1        101348.88       1  \n",
              "1          0               1        112542.58       0  \n",
              "2          1               0        113931.57       1  \n",
              "3          0               0         93826.63       0  \n",
              "4          1               1         79084.10       0  "
            ],
            "text/html": [
              "\n",
              "  <div id=\"df-62290dec-9505-48f1-9f44-cefce7aee6d6\">\n",
              "    <div class=\"colab-df-container\">\n",
              "      <div>\n",
              "<style scoped>\n",
              "    .dataframe tbody tr th:only-of-type {\n",
              "        vertical-align: middle;\n",
              "    }\n",
              "\n",
              "    .dataframe tbody tr th {\n",
              "        vertical-align: top;\n",
              "    }\n",
              "\n",
              "    .dataframe thead th {\n",
              "        text-align: right;\n",
              "    }\n",
              "</style>\n",
              "<table border=\"1\" class=\"dataframe\">\n",
              "  <thead>\n",
              "    <tr style=\"text-align: right;\">\n",
              "      <th></th>\n",
              "      <th>CreditScore</th>\n",
              "      <th>Geography</th>\n",
              "      <th>Gender</th>\n",
              "      <th>Age</th>\n",
              "      <th>Tenure</th>\n",
              "      <th>Balance</th>\n",
              "      <th>NumOfProducts</th>\n",
              "      <th>HasCrCard</th>\n",
              "      <th>IsActiveMember</th>\n",
              "      <th>EstimatedSalary</th>\n",
              "      <th>Exited</th>\n",
              "    </tr>\n",
              "  </thead>\n",
              "  <tbody>\n",
              "    <tr>\n",
              "      <th>0</th>\n",
              "      <td>619</td>\n",
              "      <td>France</td>\n",
              "      <td>Female</td>\n",
              "      <td>42</td>\n",
              "      <td>2</td>\n",
              "      <td>0.00</td>\n",
              "      <td>1</td>\n",
              "      <td>1</td>\n",
              "      <td>1</td>\n",
              "      <td>101348.88</td>\n",
              "      <td>1</td>\n",
              "    </tr>\n",
              "    <tr>\n",
              "      <th>1</th>\n",
              "      <td>608</td>\n",
              "      <td>Spain</td>\n",
              "      <td>Female</td>\n",
              "      <td>41</td>\n",
              "      <td>1</td>\n",
              "      <td>83807.86</td>\n",
              "      <td>1</td>\n",
              "      <td>0</td>\n",
              "      <td>1</td>\n",
              "      <td>112542.58</td>\n",
              "      <td>0</td>\n",
              "    </tr>\n",
              "    <tr>\n",
              "      <th>2</th>\n",
              "      <td>502</td>\n",
              "      <td>France</td>\n",
              "      <td>Female</td>\n",
              "      <td>42</td>\n",
              "      <td>8</td>\n",
              "      <td>159660.80</td>\n",
              "      <td>3</td>\n",
              "      <td>1</td>\n",
              "      <td>0</td>\n",
              "      <td>113931.57</td>\n",
              "      <td>1</td>\n",
              "    </tr>\n",
              "    <tr>\n",
              "      <th>3</th>\n",
              "      <td>699</td>\n",
              "      <td>France</td>\n",
              "      <td>Female</td>\n",
              "      <td>39</td>\n",
              "      <td>1</td>\n",
              "      <td>0.00</td>\n",
              "      <td>2</td>\n",
              "      <td>0</td>\n",
              "      <td>0</td>\n",
              "      <td>93826.63</td>\n",
              "      <td>0</td>\n",
              "    </tr>\n",
              "    <tr>\n",
              "      <th>4</th>\n",
              "      <td>850</td>\n",
              "      <td>Spain</td>\n",
              "      <td>Female</td>\n",
              "      <td>43</td>\n",
              "      <td>2</td>\n",
              "      <td>125510.82</td>\n",
              "      <td>1</td>\n",
              "      <td>1</td>\n",
              "      <td>1</td>\n",
              "      <td>79084.10</td>\n",
              "      <td>0</td>\n",
              "    </tr>\n",
              "  </tbody>\n",
              "</table>\n",
              "</div>\n",
              "      <button class=\"colab-df-convert\" onclick=\"convertToInteractive('df-62290dec-9505-48f1-9f44-cefce7aee6d6')\"\n",
              "              title=\"Convert this dataframe to an interactive table.\"\n",
              "              style=\"display:none;\">\n",
              "        \n",
              "  <svg xmlns=\"http://www.w3.org/2000/svg\" height=\"24px\"viewBox=\"0 0 24 24\"\n",
              "       width=\"24px\">\n",
              "    <path d=\"M0 0h24v24H0V0z\" fill=\"none\"/>\n",
              "    <path d=\"M18.56 5.44l.94 2.06.94-2.06 2.06-.94-2.06-.94-.94-2.06-.94 2.06-2.06.94zm-11 1L8.5 8.5l.94-2.06 2.06-.94-2.06-.94L8.5 2.5l-.94 2.06-2.06.94zm10 10l.94 2.06.94-2.06 2.06-.94-2.06-.94-.94-2.06-.94 2.06-2.06.94z\"/><path d=\"M17.41 7.96l-1.37-1.37c-.4-.4-.92-.59-1.43-.59-.52 0-1.04.2-1.43.59L10.3 9.45l-7.72 7.72c-.78.78-.78 2.05 0 2.83L4 21.41c.39.39.9.59 1.41.59.51 0 1.02-.2 1.41-.59l7.78-7.78 2.81-2.81c.8-.78.8-2.07 0-2.86zM5.41 20L4 18.59l7.72-7.72 1.47 1.35L5.41 20z\"/>\n",
              "  </svg>\n",
              "      </button>\n",
              "      \n",
              "  <style>\n",
              "    .colab-df-container {\n",
              "      display:flex;\n",
              "      flex-wrap:wrap;\n",
              "      gap: 12px;\n",
              "    }\n",
              "\n",
              "    .colab-df-convert {\n",
              "      background-color: #E8F0FE;\n",
              "      border: none;\n",
              "      border-radius: 50%;\n",
              "      cursor: pointer;\n",
              "      display: none;\n",
              "      fill: #1967D2;\n",
              "      height: 32px;\n",
              "      padding: 0 0 0 0;\n",
              "      width: 32px;\n",
              "    }\n",
              "\n",
              "    .colab-df-convert:hover {\n",
              "      background-color: #E2EBFA;\n",
              "      box-shadow: 0px 1px 2px rgba(60, 64, 67, 0.3), 0px 1px 3px 1px rgba(60, 64, 67, 0.15);\n",
              "      fill: #174EA6;\n",
              "    }\n",
              "\n",
              "    [theme=dark] .colab-df-convert {\n",
              "      background-color: #3B4455;\n",
              "      fill: #D2E3FC;\n",
              "    }\n",
              "\n",
              "    [theme=dark] .colab-df-convert:hover {\n",
              "      background-color: #434B5C;\n",
              "      box-shadow: 0px 1px 3px 1px rgba(0, 0, 0, 0.15);\n",
              "      filter: drop-shadow(0px 1px 2px rgba(0, 0, 0, 0.3));\n",
              "      fill: #FFFFFF;\n",
              "    }\n",
              "  </style>\n",
              "\n",
              "      <script>\n",
              "        const buttonEl =\n",
              "          document.querySelector('#df-62290dec-9505-48f1-9f44-cefce7aee6d6 button.colab-df-convert');\n",
              "        buttonEl.style.display =\n",
              "          google.colab.kernel.accessAllowed ? 'block' : 'none';\n",
              "\n",
              "        async function convertToInteractive(key) {\n",
              "          const element = document.querySelector('#df-62290dec-9505-48f1-9f44-cefce7aee6d6');\n",
              "          const dataTable =\n",
              "            await google.colab.kernel.invokeFunction('convertToInteractive',\n",
              "                                                     [key], {});\n",
              "          if (!dataTable) return;\n",
              "\n",
              "          const docLinkHtml = 'Like what you see? Visit the ' +\n",
              "            '<a target=\"_blank\" href=https://colab.research.google.com/notebooks/data_table.ipynb>data table notebook</a>'\n",
              "            + ' to learn more about interactive tables.';\n",
              "          element.innerHTML = '';\n",
              "          dataTable['output_type'] = 'display_data';\n",
              "          await google.colab.output.renderOutput(dataTable, element);\n",
              "          const docLink = document.createElement('div');\n",
              "          docLink.innerHTML = docLinkHtml;\n",
              "          element.appendChild(docLink);\n",
              "        }\n",
              "      </script>\n",
              "    </div>\n",
              "  </div>\n",
              "  "
            ]
          },
          "metadata": {},
          "execution_count": 2
        }
      ],
      "source": [
        "abt = pd.read_csv(\"/content/customer_churn.csv\")\n",
        "abt.head()"
      ]
    },
    {
      "cell_type": "code",
      "source": [
        "print(abt['CreditScore'].max())\n",
        "print(abt['Age'].max())\n",
        "print(abt['Tenure'].max())\n",
        "print(abt['Balance'].max())\n",
        "print(abt['NumOfProducts'].max())\n",
        "print(abt['EstimatedSalary'].max())"
      ],
      "metadata": {
        "colab": {
          "base_uri": "https://localhost:8080/"
        },
        "id": "qrveiw_dTo38",
        "outputId": "38120f39-d6ec-4d84-a0ad-bf7b9f3737f2"
      },
      "execution_count": 43,
      "outputs": [
        {
          "output_type": "stream",
          "name": "stdout",
          "text": [
            "850\n",
            "92\n",
            "10\n",
            "250898.09\n",
            "4\n",
            "199992.48\n"
          ]
        }
      ]
    },
    {
      "cell_type": "code",
      "source": [
        "print(abt['CreditScore'].min())\n",
        "print(abt['Age'].min())\n",
        "print(abt['Tenure'].min())\n",
        "print(abt['Balance'].min())\n",
        "print(abt['NumOfProducts'].min())\n",
        "print(abt['EstimatedSalary'].min())"
      ],
      "metadata": {
        "colab": {
          "base_uri": "https://localhost:8080/"
        },
        "id": "hwGb-SkE7fGx",
        "outputId": "b45a97b0-97c1-495c-c721-622ae5e504f2"
      },
      "execution_count": 44,
      "outputs": [
        {
          "output_type": "stream",
          "name": "stdout",
          "text": [
            "350\n",
            "18\n",
            "0\n",
            "0.0\n",
            "1\n",
            "11.58\n"
          ]
        }
      ]
    },
    {
      "cell_type": "code",
      "source": [
        "import seaborn as sns \n",
        "plt.figure(figsize = (16,5))\n",
        "sns.heatmap(abt.corr(),annot=True, cmap=\"YlGnBu\",linewidths=.5)\n",
        "plt.show()"
      ],
      "metadata": {
        "colab": {
          "base_uri": "https://localhost:8080/",
          "height": 395
        },
        "id": "DCIx1wyXma6I",
        "outputId": "a0b7c4f5-035f-40bd-9bb4-4e547f2d5f71"
      },
      "execution_count": 4,
      "outputs": [
        {
          "output_type": "display_data",
          "data": {
            "text/plain": [
              "<Figure size 1152x360 with 2 Axes>"
            ],
            "image/png": "[encoded data removed]"
          },
          "metadata": {
            "needs_background": "light"
          }
        }
      ]
    },
    {
      "cell_type": "code",
      "execution_count": 5,
      "metadata": {
        "colab": {
          "base_uri": "https://localhost:8080/",
          "height": 891
        },
        "id": "slL7-eoX63Eo",
        "outputId": "ae0755ac-f8fc-42c2-fc3f-5ddb96753b74"
      },
      "outputs": [
        {
          "output_type": "display_data",
          "data": {
            "text/plain": [
              "<Figure size 1080x1080 with 4 Axes>"
            ],
            "image/png": "[encoded data removed]"
          },
          "metadata": {
            "needs_background": "light"
          }
        }
      ],
      "source": [
        "fig,a =  plt.subplots(2,2,figsize=(15,15))\n",
        "\n",
        "\n",
        "a[0][0].scatter(abt['CreditScore'],abt['Exited'],s=2,color=\"blue\")\n",
        "a[0][0].set_ylabel(\"Customer Exited(1->Exited)(0->Not Exited)\")\n",
        "a[0][0].set_xlabel(\"CreditScore\")\n",
        "a[0][0].set_title(\"Relation between CreditScore and Customer Churn\",fontsize=10)\n",
        "\n",
        "\n",
        "a[0][1].scatter(abt['Balance'],abt['Exited'],s=5,color=\"violet\")\n",
        "a[0][1].set_ylabel(\"Customer Exited(1->Exited)(0->Not Exited)\")\n",
        "a[0][1].set_xlabel(\"Balance\")\n",
        "a[0][1].set_title(\"Relation between Balance and Customer Churn\",fontsize=10)\n",
        "\n",
        "\n",
        "a[1][0].scatter(abt['Age'],abt['Exited'],s=5,color=\"green\")\n",
        "a[1][0].set_ylabel(\"Customer Exited(1->Exited)(0->Not Exited)\")\n",
        "a[1][0].set_xlabel(\"Age\")\n",
        "a[1][0].set_title(\"Relation between Age and Customer Churn\",fontsize=10)\n",
        "\n",
        "\n",
        "a[1][1].scatter(abt['Tenure'],abt['Exited'],s=5,color=\"violet\")\n",
        "a[1][1].set_ylabel(\"Customer Exited(1->Exited)(0->Not Exited)\")\n",
        "a[1][1].set_xlabel(\"Tenure\")\n",
        "a[1][1].set_title(\"Relation between Tenure and Customer Churn\",fontsize=10)\n",
        "\n",
        "plt.show()"
      ]
    },
    {
      "cell_type": "code",
      "source": [
        "fig,a =  plt.subplots(2,2,figsize=(12,15))\n",
        "\n",
        "\n",
        "\n",
        "a[0][0].scatter(abt['Gender'],abt['Exited'],s=5,color=\"black\")\n",
        "a[0][0].set_ylabel(\"Customer Exited(1->Exited)(0->Not Exited)\")\n",
        "a[0][0].set_xlabel(\"Gender\")\n",
        "a[0][0].set_title(\"Relation between Gender and Customer Churn\",fontsize=10)\n",
        "\n",
        "\n",
        "a[0][1].scatter(abt['NumOfProducts'],abt['Exited'],s=5,color=\"violet\")\n",
        "a[0][1].set_ylabel(\"Customer Exited(1->Exited)(0->Not Exited)\")\n",
        "a[0][1].set_xlabel(\"NumOfProducts\")\n",
        "a[0][1].set_title(\"Relation between NumOfProducts and Customer Churn\",fontsize=10)\n",
        "\n",
        "a[1][0].scatter(abt['HasCrCard'],abt['Exited'],s=5,color=\"violet\")\n",
        "a[1][0].set_ylabel(\"Customer Exited(1->Exited)(0->Not Exited)\")\n",
        "a[1][0].set_xlabel(\"HasCrCard\")\n",
        "a[1][0].set_title(\"Relation between HasCrCard and Customer Churn\",fontsize=10)\n",
        "\n",
        "\n",
        "a[1][1].scatter(abt['IsActiveMember'],abt['Exited'],s=5,color=\"violet\")\n",
        "a[1][1].set_ylabel(\"Customer Exited(1->Exited)(0->Not Exited)\")\n",
        "a[1][1].set_xlabel(\"IsActiveMember\")\n",
        "a[1][1].set_title(\"Relation between IsActiveMember and Customer Churn\",fontsize=10)\n",
        "\n",
        "\n",
        "\n",
        "plt.show()\n"
      ],
      "metadata": {
        "colab": {
          "base_uri": "https://localhost:8080/",
          "height": 891
        },
        "id": "wfl6KHndQFMz",
        "outputId": "7a4a7bea-f8fd-4b33-bfc5-26234be49912"
      },
      "execution_count": 6,
      "outputs": [
        {
          "output_type": "display_data",
          "data": {
            "text/plain": [
              "<Figure size 864x1080 with 4 Axes>"
            ],
            "image/png": "[encoded data removed]"
          },
          "metadata": {
            "needs_background": "light"
          }
        }
      ]
    },
    {
      "cell_type": "code",
      "source": [
        "fig,a =  plt.subplots(figsize=(8,5))\n",
        "\n",
        "\n",
        "a.scatter(abt['EstimatedSalary'],abt['Exited'],s=5,color=\"violet\")\n",
        "a.set_ylabel(\"Customer Exited(1->Exited)(0->Not Exited)\")\n",
        "a.set_xlabel(\"EstimatedSalary\")\n",
        "a.set_title(\"Relation between EstimatedSalary and Customer Churn\",fontsize=10)\n",
        "\n",
        "plt.show()"
      ],
      "metadata": {
        "colab": {
          "base_uri": "https://localhost:8080/",
          "height": 348
        },
        "id": "LvlsUWywQJna",
        "outputId": "912631a8-003e-43f3-96a3-809d4cdce9ad"
      },
      "execution_count": 7,
      "outputs": [
        {
          "output_type": "display_data",
          "data": {
            "text/plain": [
              "<Figure size 576x360 with 1 Axes>"
            ],
            "image/png": "[encoded data removed]"
          },
          "metadata": {
            "needs_background": "light"
          }
        }
      ]
    },
    {
      "cell_type": "code",
      "source": [
        "data = {'Not Exited':7963,'Exited':2037}\n",
        "status = list(data.keys())\n",
        "count = list(data.values())\n",
        "  \n",
        "fig = plt.figure(figsize = (10, 5))\n",
        "plt.bar(status, count, color ='maroon',\n",
        "        width = 0.2)\n",
        " \n",
        "plt.xlabel(\"Status\")\n",
        "plt.ylabel(\"No of customers\")\n",
        "plt.title(\"Status of Customers\")\n",
        "plt.show()"
      ],
      "metadata": {
        "colab": {
          "base_uri": "https://localhost:8080/",
          "height": 350
        },
        "id": "l5sB8hoQq8mV",
        "outputId": "99822a9b-b1c1-4c75-fea7-d8075cfe9ec0"
      },
      "execution_count": 8,
      "outputs": [
        {
          "output_type": "display_data",
          "data": {
            "text/plain": [
              "<Figure size 720x360 with 1 Axes>"
            ],
            "image/png": "[encoded data removed]"
          },
          "metadata": {
            "needs_background": "light"
          }
        }
      ]
    },
    {
      "cell_type": "code",
      "execution_count": 9,
      "metadata": {
        "id": "Tqzcky8hIhxl",
        "colab": {
          "base_uri": "https://localhost:8080/"
        },
        "outputId": "122f6caa-3fc2-4edd-ef46-34811987f153"
      },
      "outputs": [
        {
          "output_type": "stream",
          "name": "stdout",
          "text": [
            "(10000, 9) (10000,)\n"
          ]
        }
      ],
      "source": [
        "y = abt.Exited\n",
        "\n",
        "X = abt.drop(['Exited','Geography'], axis=1)\n",
        "\n",
        "print(X.shape, y.shape)"
      ]
    },
    {
      "cell_type": "code",
      "execution_count": 10,
      "metadata": {
        "id": "cg18a6CKIhz7",
        "colab": {
          "base_uri": "https://localhost:8080/"
        },
        "outputId": "c6f1bf22-ae9a-4617-f028-b89895b6ca59"
      },
      "outputs": [
        {
          "output_type": "execute_result",
          "data": {
            "text/plain": [
              "['CreditScore',\n",
              " 'Age',\n",
              " 'Tenure',\n",
              " 'Balance',\n",
              " 'NumOfProducts',\n",
              " 'HasCrCard',\n",
              " 'IsActiveMember',\n",
              " 'EstimatedSalary']"
            ]
          },
          "metadata": {},
          "execution_count": 10
        }
      ],
      "source": [
        "num_columns = X.select_dtypes(include='number').columns.tolist()\n",
        "num_columns"
      ]
    },
    {
      "cell_type": "code",
      "execution_count": 11,
      "metadata": {
        "id": "9YryJcPNIh2Q",
        "colab": {
          "base_uri": "https://localhost:8080/"
        },
        "outputId": "c8fdd138-94f5-4d38-f618-aa0b278b04e7"
      },
      "outputs": [
        {
          "output_type": "stream",
          "name": "stdout",
          "text": [
            "      CreditScore       Age  Tenure   Balance  NumOfProducts  HasCrCard  \\\n",
            "0           0.538  0.324324     0.2  0.000000       0.000000        1.0   \n",
            "1           0.516  0.310811     0.1  0.334031       0.000000        0.0   \n",
            "2           0.304  0.324324     0.8  0.636357       0.666667        1.0   \n",
            "3           0.698  0.283784     0.1  0.000000       0.333333        0.0   \n",
            "4           1.000  0.337838     0.2  0.500246       0.000000        1.0   \n",
            "...           ...       ...     ...       ...            ...        ...   \n",
            "9995        0.842  0.283784     0.5  0.000000       0.333333        1.0   \n",
            "9996        0.332  0.229730     1.0  0.228657       0.000000        1.0   \n",
            "9997        0.718  0.243243     0.7  0.000000       0.000000        0.0   \n",
            "9998        0.844  0.324324     0.3  0.299226       0.333333        1.0   \n",
            "9999        0.884  0.135135     0.4  0.518708       0.000000        1.0   \n",
            "\n",
            "      IsActiveMember  EstimatedSalary  \n",
            "0                1.0         0.506735  \n",
            "1                1.0         0.562709  \n",
            "2                0.0         0.569654  \n",
            "3                0.0         0.469120  \n",
            "4                1.0         0.395400  \n",
            "...              ...              ...  \n",
            "9995             0.0         0.481341  \n",
            "9996             1.0         0.508490  \n",
            "9997             1.0         0.210390  \n",
            "9998             0.0         0.464429  \n",
            "9999             0.0         0.190914  \n",
            "\n",
            "[10000 rows x 8 columns]\n",
            "[0.5379999999999999 'Female' 0.3243243243243243 0.2 0.0 0.0 1.0 1.0\n",
            " 0.5067348931822989]\n"
          ]
        }
      ],
      "source": [
        "scaler = MinMaxScaler()\n",
        "X[['CreditScore','Age','Tenure','Balance','NumOfProducts','HasCrCard','IsActiveMember','EstimatedSalary']] = scaler.fit_transform(X[['CreditScore','Age','Tenure','Balance','NumOfProducts','HasCrCard','IsActiveMember','EstimatedSalary']])\n",
        "c = X.values\n",
        "print(X[['CreditScore','Age','Tenure','Balance','NumOfProducts','HasCrCard','IsActiveMember','EstimatedSalary']])\n",
        "print(c[0])"
      ]
    },
    {
      "cell_type": "code",
      "execution_count": 12,
      "metadata": {
        "id": "G-r3aH_8V-8c",
        "colab": {
          "base_uri": "https://localhost:8080/"
        },
        "outputId": "27b88baa-99b1-4bbf-88ed-8a4233dfb792"
      },
      "outputs": [
        {
          "output_type": "stream",
          "name": "stdout",
          "text": [
            "France     5014\n",
            "Germany    2509\n",
            "Spain      2477\n",
            "Name: Geography, dtype: int64\n",
            "Male      5457\n",
            "Female    4543\n",
            "Name: Gender, dtype: int64\n"
          ]
        }
      ],
      "source": [
        "print(abt['Geography'].value_counts())\n",
        "print(abt['Gender'].value_counts())"
      ]
    },
    {
      "cell_type": "code",
      "execution_count": 13,
      "metadata": {
        "id": "9ySbHsT_Ih4h",
        "colab": {
          "base_uri": "https://localhost:8080/"
        },
        "outputId": "90e5a4f3-fae5-4db7-d09a-0c80faf98fd4"
      },
      "outputs": [
        {
          "output_type": "execute_result",
          "data": {
            "text/plain": [
              "['Gender']"
            ]
          },
          "metadata": {},
          "execution_count": 13
        }
      ],
      "source": [
        "cat_columns = X.select_dtypes(include='object').columns.tolist()\n",
        "cat_columns"
      ]
    },
    {
      "cell_type": "code",
      "execution_count": 14,
      "metadata": {
        "id": "J1G2--U2Ih79",
        "colab": {
          "base_uri": "https://localhost:8080/"
        },
        "outputId": "8c02c5cc-6048-4743-e85d-e01ae60d6cc4"
      },
      "outputs": [
        {
          "output_type": "stream",
          "name": "stdout",
          "text": [
            "      CreditScore  Gender       Age  Tenure   Balance  NumOfProducts  \\\n",
            "0           0.538  Female  0.324324     0.2  0.000000       0.000000   \n",
            "1           0.516  Female  0.310811     0.1  0.334031       0.000000   \n",
            "2           0.304  Female  0.324324     0.8  0.636357       0.666667   \n",
            "3           0.698  Female  0.283784     0.1  0.000000       0.333333   \n",
            "4           1.000  Female  0.337838     0.2  0.500246       0.000000   \n",
            "...           ...     ...       ...     ...       ...            ...   \n",
            "9995        0.842    Male  0.283784     0.5  0.000000       0.333333   \n",
            "9996        0.332    Male  0.229730     1.0  0.228657       0.000000   \n",
            "9997        0.718  Female  0.243243     0.7  0.000000       0.000000   \n",
            "9998        0.844    Male  0.324324     0.3  0.299226       0.333333   \n",
            "9999        0.884  Female  0.135135     0.4  0.518708       0.000000   \n",
            "\n",
            "      HasCrCard  IsActiveMember  EstimatedSalary  \n",
            "0           1.0             1.0         0.506735  \n",
            "1           0.0             1.0         0.562709  \n",
            "2           1.0             0.0         0.569654  \n",
            "3           0.0             0.0         0.469120  \n",
            "4           1.0             1.0         0.395400  \n",
            "...         ...             ...              ...  \n",
            "9995        1.0             0.0         0.481341  \n",
            "9996        1.0             1.0         0.508490  \n",
            "9997        0.0             1.0         0.210390  \n",
            "9998        1.0             0.0         0.464429  \n",
            "9999        1.0             0.0         0.190914  \n",
            "\n",
            "[10000 rows x 9 columns]\n",
            "[1.         0.         1.         0.         0.538      0.32432432\n",
            " 0.2        0.         0.         1.         1.         0.50673489]\n",
            "[1.         0.         1.         0.         0.516      0.31081081\n",
            " 0.1        0.33403148 0.         0.         1.         0.56270874]\n"
          ]
        }
      ],
      "source": [
        "cd = ColumnTransformer([('encoder', OneHotEncoder(), [1,1])], remainder='passthrough')\n",
        "print(X)\n",
        "X = np.array(cd.fit_transform(X))\n",
        "print(X[0])\n",
        "print(X[1])"
      ]
    },
    {
      "cell_type": "code",
      "source": [
        ""
      ],
      "metadata": {
        "id": "uVRHnajgUc2l"
      },
      "execution_count": 14,
      "outputs": []
    },
    {
      "cell_type": "code",
      "execution_count": 15,
      "metadata": {
        "id": "5TAgrXocI6n6",
        "colab": {
          "base_uri": "https://localhost:8080/"
        },
        "outputId": "4801a955-cf37-4f2a-fd73-a437b8d3d809"
      },
      "outputs": [
        {
          "output_type": "execute_result",
          "data": {
            "text/plain": [
              "0    7963\n",
              "1    2037\n",
              "Name: Exited, dtype: int64"
            ]
          },
          "metadata": {},
          "execution_count": 15
        }
      ],
      "source": [
        "abt['Exited'].value_counts()"
      ]
    },
    {
      "cell_type": "code",
      "execution_count": 16,
      "metadata": {
        "id": "BpY8BXtYI9Mj",
        "colab": {
          "base_uri": "https://localhost:8080/"
        },
        "outputId": "e392350c-edb7-4ae9-92c0-7085e48a37ff"
      },
      "outputs": [
        {
          "output_type": "stream",
          "name": "stdout",
          "text": [
            "7000 3000 7000 3000\n"
          ]
        }
      ],
      "source": [
        "\n",
        "random_state = 10\n",
        "\n",
        "X_train, X_test, y_train, y_test = train_test_split(X, y,\n",
        "                                                    test_size=0.3,\n",
        "                                                    random_state=random_state,\n",
        "                                                    stratify=abt.Exited)\n",
        "\n",
        "print(len(X_train), len(X_test), len(y_train), len(y_test))"
      ]
    },
    {
      "cell_type": "code",
      "source": [
        "print(X_train)"
      ],
      "metadata": {
        "colab": {
          "base_uri": "https://localhost:8080/"
        },
        "id": "cszokcF7wSmR",
        "outputId": "bf1bb329-d535-4296-e851-450e75c6ed9d"
      },
      "execution_count": 17,
      "outputs": [
        {
          "output_type": "stream",
          "name": "stdout",
          "text": [
            "[[0.         1.         0.         ... 0.         1.         0.92033584]\n",
            " [0.         1.         0.         ... 1.         1.         0.00951506]\n",
            " [0.         1.         0.         ... 0.         0.         0.41997116]\n",
            " ...\n",
            " [0.         1.         0.         ... 1.         0.         0.2251702 ]\n",
            " [1.         0.         1.         ... 1.         1.         0.87488385]\n",
            " [0.         1.         0.         ... 1.         0.         0.11522565]]\n"
          ]
        }
      ]
    },
    {
      "cell_type": "code",
      "execution_count": 18,
      "metadata": {
        "id": "uC4Mnbz9J-4g",
        "colab": {
          "base_uri": "https://localhost:8080/"
        },
        "outputId": "5737e5cb-c15b-44b6-f11b-b19d0696afc8"
      },
      "outputs": [
        {
          "output_type": "stream",
          "name": "stdout",
          "text": [
            "KNeighborsClassifier(n_neighbors=2)\n"
          ]
        }
      ],
      "source": [
        "classifier= KNeighborsClassifier(n_neighbors=2)  \n",
        "history = classifier.fit(X_train, y_train)\n",
        "print(history)"
      ]
    },
    {
      "cell_type": "code",
      "execution_count": 19,
      "metadata": {
        "id": "Z-WGjFmdYabA",
        "colab": {
          "base_uri": "https://localhost:8080/"
        },
        "outputId": "39363553-fa57-4669-88fa-87d076ec9ffe"
      },
      "outputs": [
        {
          "output_type": "stream",
          "name": "stdout",
          "text": [
            "[0 0 0 ... 0 0 0]\n",
            "[1 0 0 ... 0 0 0]\n"
          ]
        }
      ],
      "source": [
        "y_pred= classifier.predict(X_test)\n",
        "print(y_pred)\n",
        "print(y_test.values)"
      ]
    },
    {
      "cell_type": "code",
      "execution_count": 20,
      "metadata": {
        "id": "n1NCtsnmKBps",
        "colab": {
          "base_uri": "https://localhost:8080/"
        },
        "outputId": "63de30d0-51a8-4a67-ea02-1282a407a6ff"
      },
      "outputs": [
        {
          "output_type": "stream",
          "name": "stdout",
          "text": [
            "[[2315   74]\n",
            " [ 469  142]]\n",
            "              precision    recall  f1-score   support\n",
            "\n",
            "           0       0.83      0.97      0.90      2389\n",
            "           1       0.66      0.23      0.34       611\n",
            "\n",
            "    accuracy                           0.82      3000\n",
            "   macro avg       0.74      0.60      0.62      3000\n",
            "weighted avg       0.80      0.82      0.78      3000\n",
            "\n"
          ]
        }
      ],
      "source": [
        "cm= confusion_matrix(y_test, y_pred)  \n",
        "print(cm)\n",
        "report = classification_report(y_test,y_pred)\n",
        "print(report)"
      ]
    },
    {
      "cell_type": "code",
      "execution_count": 21,
      "metadata": {
        "id": "8B6mciLfJ-68",
        "colab": {
          "base_uri": "https://localhost:8080/"
        },
        "outputId": "07d42784-5a22-4a66-ae86-13c5e626d4bf"
      },
      "outputs": [
        {
          "output_type": "stream",
          "name": "stdout",
          "text": [
            "0.819\n"
          ]
        }
      ],
      "source": [
        "knn_accuracy = classifier.score(X_test, y_test)\n",
        "print(knn_accuracy)\n"
      ]
    },
    {
      "cell_type": "code",
      "execution_count": 22,
      "metadata": {
        "id": "58aXMhuXMyGS"
      },
      "outputs": [],
      "source": [
        "from sklearn.tree import DecisionTreeClassifier"
      ]
    },
    {
      "cell_type": "code",
      "execution_count": 23,
      "metadata": {
        "id": "fMyZFREFI9Tk",
        "colab": {
          "base_uri": "https://localhost:8080/"
        },
        "outputId": "d2130975-fbfa-454b-bd12-3a1218eff7da"
      },
      "outputs": [
        {
          "output_type": "execute_result",
          "data": {
            "text/plain": [
              "DecisionTreeClassifier()"
            ]
          },
          "metadata": {},
          "execution_count": 23
        }
      ],
      "source": [
        "clf = DecisionTreeClassifier()\n",
        "clf.fit(X_train,y_train)"
      ]
    },
    {
      "cell_type": "code",
      "execution_count": 24,
      "metadata": {
        "id": "AnVQVyElMkZj",
        "colab": {
          "base_uri": "https://localhost:8080/"
        },
        "outputId": "27323494-8e21-4057-8c92-5114594f56bd"
      },
      "outputs": [
        {
          "output_type": "stream",
          "name": "stdout",
          "text": [
            "[0 0 0 ... 1 0 0]\n",
            "[1 0 0 ... 0 0 0]\n"
          ]
        }
      ],
      "source": [
        "y_pred= clf.predict(X_test)\n",
        "print(y_pred)\n",
        "print(y_test.values)"
      ]
    },
    {
      "cell_type": "code",
      "execution_count": 25,
      "metadata": {
        "id": "xsZVnItZMkcE",
        "colab": {
          "base_uri": "https://localhost:8080/"
        },
        "outputId": "de70b566-a38d-4d39-ba67-9530387d381d"
      },
      "outputs": [
        {
          "output_type": "stream",
          "name": "stdout",
          "text": [
            "[[2023  366]\n",
            " [ 310  301]]\n",
            "              precision    recall  f1-score   support\n",
            "\n",
            "           0       0.87      0.85      0.86      2389\n",
            "           1       0.45      0.49      0.47       611\n",
            "\n",
            "    accuracy                           0.77      3000\n",
            "   macro avg       0.66      0.67      0.66      3000\n",
            "weighted avg       0.78      0.77      0.78      3000\n",
            "\n"
          ]
        }
      ],
      "source": [
        "cm= confusion_matrix(y_test, y_pred)  \n",
        "print(cm)\n",
        "report = classification_report(y_test,y_pred)\n",
        "print(report)"
      ]
    },
    {
      "cell_type": "code",
      "execution_count": 26,
      "metadata": {
        "id": "qgNsSkv7Mkeu",
        "colab": {
          "base_uri": "https://localhost:8080/"
        },
        "outputId": "9fc3e8ea-05c8-4cb3-fd24-04cd833f88c5"
      },
      "outputs": [
        {
          "output_type": "stream",
          "name": "stdout",
          "text": [
            "0.7746666666666666\n"
          ]
        }
      ],
      "source": [
        "dtree_accuracy = clf.score(X_test, y_test)\n",
        "print(dtree_accuracy)"
      ]
    },
    {
      "cell_type": "code",
      "execution_count": 26,
      "metadata": {
        "id": "bTBbZJbZMkhI"
      },
      "outputs": [],
      "source": [
        ""
      ]
    },
    {
      "cell_type": "code",
      "execution_count": 27,
      "metadata": {
        "id": "Owku2ojGMkjb"
      },
      "outputs": [],
      "source": [
        "from sklearn.svm import SVC"
      ]
    },
    {
      "cell_type": "code",
      "execution_count": 28,
      "metadata": {
        "id": "FcX6Nv67Mklv",
        "colab": {
          "base_uri": "https://localhost:8080/"
        },
        "outputId": "82351968-0b1b-42fd-e847-886a704b2c32"
      },
      "outputs": [
        {
          "output_type": "execute_result",
          "data": {
            "text/plain": [
              "SVC(kernel='poly')"
            ]
          },
          "metadata": {},
          "execution_count": 28
        }
      ],
      "source": [
        "classifier = SVC(kernel='poly')  \n",
        "classifier.fit(X_train, y_train)  "
      ]
    },
    {
      "cell_type": "code",
      "execution_count": 29,
      "metadata": {
        "id": "x2-KW1SpMkoH",
        "colab": {
          "base_uri": "https://localhost:8080/"
        },
        "outputId": "9645795b-9b78-451d-e477-eebe6f7f1e80"
      },
      "outputs": [
        {
          "output_type": "stream",
          "name": "stdout",
          "text": [
            "[0 0 0 ... 0 0 0]\n",
            "[1 0 0 ... 0 0 0]\n"
          ]
        }
      ],
      "source": [
        "y_pred= classifier.predict(X_test)\n",
        "print(y_pred)\n",
        "print(y_test.values)"
      ]
    },
    {
      "cell_type": "code",
      "execution_count": 30,
      "metadata": {
        "id": "3aPOLW_8Mkqd",
        "colab": {
          "base_uri": "https://localhost:8080/"
        },
        "outputId": "a2d207ba-7a3a-4628-807d-8bc5694e463f"
      },
      "outputs": [
        {
          "output_type": "stream",
          "name": "stdout",
          "text": [
            "[[2347   42]\n",
            " [ 417  194]]\n",
            "              precision    recall  f1-score   support\n",
            "\n",
            "           0       0.85      0.98      0.91      2389\n",
            "           1       0.82      0.32      0.46       611\n",
            "\n",
            "    accuracy                           0.85      3000\n",
            "   macro avg       0.84      0.65      0.68      3000\n",
            "weighted avg       0.84      0.85      0.82      3000\n",
            "\n"
          ]
        }
      ],
      "source": [
        "cm= confusion_matrix(y_test, y_pred)  \n",
        "print(cm)\n",
        "report = classification_report(y_test,y_pred)\n",
        "print(report)"
      ]
    },
    {
      "cell_type": "code",
      "execution_count": 31,
      "metadata": {
        "id": "z3BJIAbeMksi",
        "colab": {
          "base_uri": "https://localhost:8080/"
        },
        "outputId": "166056da-219e-4943-bedd-141af4d82734"
      },
      "outputs": [
        {
          "output_type": "stream",
          "name": "stdout",
          "text": [
            "0.847\n"
          ]
        }
      ],
      "source": [
        "svm_accuracy = classifier.score(X_test, y_test)\n",
        "print(svm_accuracy)"
      ]
    },
    {
      "cell_type": "code",
      "execution_count": 31,
      "metadata": {
        "id": "KYAUlmMDMku9"
      },
      "outputs": [],
      "source": [
        ""
      ]
    },
    {
      "cell_type": "code",
      "execution_count": 32,
      "metadata": {
        "id": "SrT7j256MkyR"
      },
      "outputs": [],
      "source": [
        "from sklearn.ensemble import RandomForestClassifier"
      ]
    },
    {
      "cell_type": "code",
      "execution_count": 33,
      "metadata": {
        "id": "AnsPKRgiN8mK",
        "colab": {
          "base_uri": "https://localhost:8080/"
        },
        "outputId": "4ce25196-0515-4a08-c87b-d38d5a823306"
      },
      "outputs": [
        {
          "output_type": "stream",
          "name": "stdout",
          "text": [
            "[0 0 0 ... 0 0 0]\n",
            "[1 0 0 ... 0 0 0]\n"
          ]
        }
      ],
      "source": [
        "classifier= RandomForestClassifier(criterion = 'entropy',max_features= 'sqrt', min_samples_leaf = 1, min_samples_split = 2, n_estimators= 100)  \n",
        "classifier.fit(X_train, y_train)\n",
        "y_pred= classifier.predict(X_test)\n",
        "print(y_pred)\n",
        "print(y_test.values)"
      ]
    },
    {
      "cell_type": "code",
      "execution_count": 34,
      "metadata": {
        "id": "kVUMakP2N8ok",
        "colab": {
          "base_uri": "https://localhost:8080/"
        },
        "outputId": "a1a1a1c9-15e1-4503-bf84-235f22b003c6"
      },
      "outputs": [
        {
          "output_type": "stream",
          "name": "stdout",
          "text": [
            "[[2305   84]\n",
            " [ 367  244]]\n",
            "              precision    recall  f1-score   support\n",
            "\n",
            "           0       0.86      0.96      0.91      2389\n",
            "           1       0.74      0.40      0.52       611\n",
            "\n",
            "    accuracy                           0.85      3000\n",
            "   macro avg       0.80      0.68      0.72      3000\n",
            "weighted avg       0.84      0.85      0.83      3000\n",
            "\n"
          ]
        }
      ],
      "source": [
        "\n",
        "cm= confusion_matrix(y_test, y_pred)  \n",
        "print(cm)\n",
        "report = classification_report(y_test,y_pred)\n",
        "print(report)"
      ]
    },
    {
      "cell_type": "code",
      "execution_count": 35,
      "metadata": {
        "id": "OLViKccwN8q1",
        "colab": {
          "base_uri": "https://localhost:8080/"
        },
        "outputId": "3719cfd7-370c-46af-93ff-8b934cbd0c17"
      },
      "outputs": [
        {
          "output_type": "stream",
          "name": "stdout",
          "text": [
            "0.8496666666666667\n"
          ]
        }
      ],
      "source": [
        "rand_accuracy = classifier.score(X_test, y_test)\n",
        "print(rand_accuracy)"
      ]
    },
    {
      "cell_type": "code",
      "execution_count": 36,
      "metadata": {
        "id": "lPEDbXJcN8tV",
        "colab": {
          "base_uri": "https://localhost:8080/",
          "height": 402
        },
        "outputId": "ee9e3449-3cf4-4e8d-ddb3-020e6f18672f"
      },
      "outputs": [
        {
          "output_type": "display_data",
          "data": {
            "text/plain": [
              "<Figure size 576x432 with 1 Axes>"
            ],
            "image/png": "[encoded data removed]"
          },
          "metadata": {
            "needs_background": "light"
          }
        }
      ],
      "source": [
        "\n",
        "annotations=[\"KNN_Accuracy\",\"DecisionTree_Accuracy\",\"SVM_Accuracy\",\"RandomForest_Accuracy\"]\n",
        "x1= [1,2,3,4]\n",
        "y1= [knn_accuracy, dtree_accuracy, svm_accuracy,rand_accuracy]\n",
        "plt.figure(figsize=(8,6))\n",
        "plt.scatter(x1,y1,s=100,color=\"red\")\n",
        "plt.xlabel(\"Algorithm Number\")\n",
        "plt.ylabel(\"Accuracy\")\n",
        "plt.title(\"Algorithm and Accuracy\",fontsize=10)\n",
        "for i, label in enumerate(annotations):\n",
        "    plt.annotate(label, (x1[i], y1[i]))\n",
        "\n",
        "plt.show()\n"
      ]
    },
    {
      "cell_type": "code",
      "execution_count": 37,
      "metadata": {
        "id": "d1Qkqu8NN8vk",
        "colab": {
          "base_uri": "https://localhost:8080/"
        },
        "outputId": "9b9fe70e-fe19-46a6-a404-72dda5d78bd6"
      },
      "outputs": [
        {
          "output_type": "stream",
          "name": "stdout",
          "text": [
            "[[1.         0.         1.         0.         0.538      0.32432432\n",
            "  0.2        0.         0.         1.         1.         0.50673489]]\n"
          ]
        }
      ],
      "source": [
        "#code for testing the model with new value\n",
        "\n",
        "\n",
        "fd = [[619,'France','Female',42,2,\t0.00,\t1,\t1,\t1,\t101348.88]]\n",
        "df = pd.DataFrame(fd, columns =['CreditScore','Geography', 'Gender','Age','Tenure','Balance', 'NumOfProducts', 'HasCrCard', 'IsActiveMember', 'EstimatedSalary'])\n",
        "df[['CreditScore','Age','Tenure','Balance','NumOfProducts','HasCrCard','IsActiveMember','EstimatedSalary']] = scaler.transform(df[['CreditScore','Age','Tenure','Balance','NumOfProducts','HasCrCard','IsActiveMember','EstimatedSalary']])\n",
        "df = np.array(cd.transform(df))\n",
        "print(df)"
      ]
    },
    {
      "cell_type": "code",
      "execution_count": 38,
      "metadata": {
        "id": "gYTQHoqrN8xo",
        "colab": {
          "base_uri": "https://localhost:8080/"
        },
        "outputId": "224c0472-8c20-43a8-e9ee-e8f88acb3c32"
      },
      "outputs": [
        {
          "output_type": "stream",
          "name": "stdout",
          "text": [
            "[1]\n"
          ]
        }
      ],
      "source": [
        "y_pred= classifier.predict(df)\n",
        "print(y_pred)"
      ]
    },
    {
      "cell_type": "code",
      "source": [
        "import pickle\n",
        "data = {\"model\": classifier,\"minmax\":scaler,\"onehotencoder\":cd}\n",
        "with open('model1(features).pkl', 'wb') as file:\n",
        "    pickle.dump(data, file)"
      ],
      "metadata": {
        "id": "iTDoUC2xQdQK"
      },
      "execution_count": 39,
      "outputs": []
    },
    {
      "cell_type": "code",
      "source": [
        "import pickle\n",
        "import pandas as pd\n",
        "import numpy as np\n",
        "with open('/content/model1(features).pkl', 'rb') as file:\n",
        "            data = pickle.load(file)\n",
        "\n",
        "cdscore = int(850)\n",
        "country= str('France')\n",
        "Gender= str('Male')\n",
        "age= int(34)\n",
        "tenure= int(10)\n",
        "balance= float(257896)\n",
        "pds= int(4)\n",
        "CreditCard= int(1)\n",
        "Active= int(1)\n",
        "salary= float(167832)\n",
        "\n",
        "rand = data['model']\n",
        "scaler = data['minmax']\n",
        "cd = data['onehotencoder']\n",
        "\n",
        "fd = [[cdscore,country,Gender,age,tenure,balance,pds,CreditCard,Active,salary]]\n",
        "df = pd.DataFrame(fd, columns =['CreditScore','Geography', 'Gender','Age','Tenure','Balance', 'NumOfProducts', 'HasCrCard', 'IsActiveMember', 'EstimatedSalary'])\n",
        "df[['CreditScore','Age','Tenure','Balance','NumOfProducts','HasCrCard','IsActiveMember','EstimatedSalary']] = scaler.transform(df[['CreditScore','Age','Tenure','Balance','NumOfProducts','HasCrCard','IsActiveMember','EstimatedSalary']])\n",
        "df = np.array(cd.transform(df))\n",
        "print(df)"
      ],
      "metadata": {
        "colab": {
          "base_uri": "https://localhost:8080/"
        },
        "id": "yW5R4y5riD1p",
        "outputId": "b5744d7c-fe2e-4352-cc46-e2d5fee471d1"
      },
      "execution_count": 40,
      "outputs": [
        {
          "output_type": "stream",
          "name": "stdout",
          "text": [
            "[[0.         1.         0.         1.         1.         0.21621622\n",
            "  1.         1.02789144 1.         1.         1.         0.83918224]]\n"
          ]
        }
      ]
    },
    {
      "cell_type": "code",
      "source": [
        "print(rand.predict(df))"
      ],
      "metadata": {
        "colab": {
          "base_uri": "https://localhost:8080/"
        },
        "id": "Z05EaquxVTOP",
        "outputId": "b9a4becd-c2f2-4127-aa4b-4264d1d1cf0b"
      },
      "execution_count": 41,
      "outputs": [
        {
          "output_type": "stream",
          "name": "stdout",
          "text": [
            "[1]\n"
          ]
        }
      ]
    },
    {
      "cell_type": "code",
      "source": [
        "rand_accuracy = rand.score(X_test, y_test)\n",
        "print(rand_accuracy)"
      ],
      "metadata": {
        "colab": {
          "base_uri": "https://localhost:8080/"
        },
        "id": "VfT0Cq5NUgmd",
        "outputId": "d5194530-bc8e-45a5-f0f0-422f0ef198a0"
      },
      "execution_count": 42,
      "outputs": [
        {
          "output_type": "stream",
          "name": "stdout",
          "text": [
            "0.8496666666666667\n"
          ]
        }
      ]
    }
  ],
  "metadata": {
    "colab": {
      "collapsed_sections": [],
      "name": "Customer_Churn.ipynb",
      "provenance": []
    },
    "kernelspec": {
      "display_name": "Python 3",
      "name": "python3"
    },
    "language_info": {
      "name": "python"
    }
  },
  "nbformat": 4,
  "nbformat_minor": 0
}